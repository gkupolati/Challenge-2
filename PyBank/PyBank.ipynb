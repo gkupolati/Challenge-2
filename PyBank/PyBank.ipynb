{
 "cells": [
  {
   "cell_type": "code",
   "execution_count": 36,
   "id": "850a1b85",
   "metadata": {},
   "outputs": [],
   "source": [
    "## TASK1-PyBank(Required)"
   ]
  },
  {
   "cell_type": "code",
   "execution_count": null,
   "id": "fc523f68",
   "metadata": {},
   "outputs": [],
   "source": [
    "Your task is to create a Python script that analyses the records to calculate each of the following:\n",
    "\n",
    "    The total number of months included in the dataset\n",
    "\n",
    "    The net total amount of Profit/Losses over the entire period\n",
    "\n",
    "    The average of the changes in Profit/Losses over the entire period\n",
    "\n",
    "    The greatest increase in profits (date and amount) over the entire period\n",
    "\n",
    "    The greatest decrease in losses (date and amount) over the entire period\n",
    "    \n",
    "    Your resulting analysis should look similar to the following:\n",
    "    \n",
    "    Financial Analysis\n",
    "  ----------------------------\n",
    "  Total Months: 86\n",
    "  Total: $38382578\n",
    "  Average  Change: $-2315.12\n",
    "  Greatest Increase in Profits: Feb-2012 ($1926159)\n",
    "  Greatest Decrease in Profits: Sep-2013 ($-2196167)\n"
   ]
  },
  {
   "cell_type": "code",
   "execution_count": 54,
   "id": "6664a560",
   "metadata": {},
   "outputs": [
    {
     "name": "stdout",
     "output_type": "stream",
     "text": [
      "      Date  Profit/Losses\n",
      "0   Jan-10         867884\n",
      "1   Feb-10         984655\n",
      "2   Mar-10         322013\n",
      "3   Apr-10         -69417\n",
      "4   May-10         310503\n",
      "..     ...            ...\n",
      "81  Oct-16         102685\n",
      "82  Nov-16         795914\n",
      "83  Dec-16          60988\n",
      "84  Jan-17         138230\n",
      "85  Feb-17         671099\n",
      "\n",
      "[86 rows x 2 columns]\n"
     ]
    }
   ],
   "source": [
    "import pandas as pd\n",
    "df = pd.read_csv(r'C:\\Users\\gokek\\OneDrive\\Documents\\GitHub\\Challenge-2\\budget_data.csv')\n",
    "print (df)"
   ]
  },
  {
   "cell_type": "code",
   "execution_count": 55,
   "id": "68079342",
   "metadata": {},
   "outputs": [
    {
     "data": {
      "text/html": [
       "<div>\n",
       "<style scoped>\n",
       "    .dataframe tbody tr th:only-of-type {\n",
       "        vertical-align: middle;\n",
       "    }\n",
       "\n",
       "    .dataframe tbody tr th {\n",
       "        vertical-align: top;\n",
       "    }\n",
       "\n",
       "    .dataframe thead th {\n",
       "        text-align: right;\n",
       "    }\n",
       "</style>\n",
       "<table border=\"1\" class=\"dataframe\">\n",
       "  <thead>\n",
       "    <tr style=\"text-align: right;\">\n",
       "      <th></th>\n",
       "      <th>Date</th>\n",
       "      <th>Profit/Losses</th>\n",
       "    </tr>\n",
       "  </thead>\n",
       "  <tbody>\n",
       "    <tr>\n",
       "      <th>0</th>\n",
       "      <td>Jan-10</td>\n",
       "      <td>867884</td>\n",
       "    </tr>\n",
       "    <tr>\n",
       "      <th>1</th>\n",
       "      <td>Feb-10</td>\n",
       "      <td>984655</td>\n",
       "    </tr>\n",
       "    <tr>\n",
       "      <th>2</th>\n",
       "      <td>Mar-10</td>\n",
       "      <td>322013</td>\n",
       "    </tr>\n",
       "    <tr>\n",
       "      <th>3</th>\n",
       "      <td>Apr-10</td>\n",
       "      <td>-69417</td>\n",
       "    </tr>\n",
       "    <tr>\n",
       "      <th>4</th>\n",
       "      <td>May-10</td>\n",
       "      <td>310503</td>\n",
       "    </tr>\n",
       "  </tbody>\n",
       "</table>\n",
       "</div>"
      ],
      "text/plain": [
       "     Date  Profit/Losses\n",
       "0  Jan-10         867884\n",
       "1  Feb-10         984655\n",
       "2  Mar-10         322013\n",
       "3  Apr-10         -69417\n",
       "4  May-10         310503"
      ]
     },
     "execution_count": 55,
     "metadata": {},
     "output_type": "execute_result"
    }
   ],
   "source": [
    "df . head()"
   ]
  },
  {
   "cell_type": "code",
   "execution_count": 57,
   "id": "90c3b1f3",
   "metadata": {},
   "outputs": [
    {
     "data": {
      "text/html": [
       "<div>\n",
       "<style scoped>\n",
       "    .dataframe tbody tr th:only-of-type {\n",
       "        vertical-align: middle;\n",
       "    }\n",
       "\n",
       "    .dataframe tbody tr th {\n",
       "        vertical-align: top;\n",
       "    }\n",
       "\n",
       "    .dataframe thead th {\n",
       "        text-align: right;\n",
       "    }\n",
       "</style>\n",
       "<table border=\"1\" class=\"dataframe\">\n",
       "  <thead>\n",
       "    <tr style=\"text-align: right;\">\n",
       "      <th></th>\n",
       "      <th>Date</th>\n",
       "      <th>Profit/Losses</th>\n",
       "    </tr>\n",
       "  </thead>\n",
       "  <tbody>\n",
       "    <tr>\n",
       "      <th>81</th>\n",
       "      <td>Oct-16</td>\n",
       "      <td>102685</td>\n",
       "    </tr>\n",
       "    <tr>\n",
       "      <th>82</th>\n",
       "      <td>Nov-16</td>\n",
       "      <td>795914</td>\n",
       "    </tr>\n",
       "    <tr>\n",
       "      <th>83</th>\n",
       "      <td>Dec-16</td>\n",
       "      <td>60988</td>\n",
       "    </tr>\n",
       "    <tr>\n",
       "      <th>84</th>\n",
       "      <td>Jan-17</td>\n",
       "      <td>138230</td>\n",
       "    </tr>\n",
       "    <tr>\n",
       "      <th>85</th>\n",
       "      <td>Feb-17</td>\n",
       "      <td>671099</td>\n",
       "    </tr>\n",
       "  </tbody>\n",
       "</table>\n",
       "</div>"
      ],
      "text/plain": [
       "      Date  Profit/Losses\n",
       "81  Oct-16         102685\n",
       "82  Nov-16         795914\n",
       "83  Dec-16          60988\n",
       "84  Jan-17         138230\n",
       "85  Feb-17         671099"
      ]
     },
     "execution_count": 57,
     "metadata": {},
     "output_type": "execute_result"
    }
   ],
   "source": [
    "df . tail()"
   ]
  },
  {
   "cell_type": "code",
   "execution_count": 64,
   "id": "edb4e26d",
   "metadata": {},
   "outputs": [
    {
     "name": "stdout",
     "output_type": "stream",
     "text": [
      "86\n"
     ]
    }
   ],
   "source": [
    "## The total number of months included in the dataset\n",
    "numMonths = df['Date'].count()\n",
    "print (numMonths)"
   ]
  },
  {
   "cell_type": "code",
   "execution_count": 165,
   "id": "822ef478",
   "metadata": {},
   "outputs": [
    {
     "name": "stdout",
     "output_type": "stream",
     "text": [
      "$38,382,578.00\n"
     ]
    }
   ],
   "source": [
    "## The net total amount of Profit/Losses over the entire period\n",
    "profit = df['Profit/Losses'].sum()\n",
    "print(f'${\"{:,.2f}\".format(profit)}')"
   ]
  },
  {
   "cell_type": "code",
   "execution_count": 150,
   "id": "8cf8bf33",
   "metadata": {},
   "outputs": [],
   "source": [
    "#create a change column with the difference\n",
    "df['change']=df['Profit/Losses'].diff()"
   ]
  },
  {
   "cell_type": "code",
   "execution_count": 151,
   "id": "acd1e60b",
   "metadata": {},
   "outputs": [
    {
     "data": {
      "text/html": [
       "<div>\n",
       "<style scoped>\n",
       "    .dataframe tbody tr th:only-of-type {\n",
       "        vertical-align: middle;\n",
       "    }\n",
       "\n",
       "    .dataframe tbody tr th {\n",
       "        vertical-align: top;\n",
       "    }\n",
       "\n",
       "    .dataframe thead th {\n",
       "        text-align: right;\n",
       "    }\n",
       "</style>\n",
       "<table border=\"1\" class=\"dataframe\">\n",
       "  <thead>\n",
       "    <tr style=\"text-align: right;\">\n",
       "      <th></th>\n",
       "      <th>Date</th>\n",
       "      <th>Profit/Losses</th>\n",
       "      <th>change</th>\n",
       "    </tr>\n",
       "  </thead>\n",
       "  <tbody>\n",
       "    <tr>\n",
       "      <th>0</th>\n",
       "      <td>Jan-10</td>\n",
       "      <td>867884</td>\n",
       "      <td>NaN</td>\n",
       "    </tr>\n",
       "    <tr>\n",
       "      <th>1</th>\n",
       "      <td>Feb-10</td>\n",
       "      <td>984655</td>\n",
       "      <td>116771.0</td>\n",
       "    </tr>\n",
       "    <tr>\n",
       "      <th>2</th>\n",
       "      <td>Mar-10</td>\n",
       "      <td>322013</td>\n",
       "      <td>-662642.0</td>\n",
       "    </tr>\n",
       "    <tr>\n",
       "      <th>3</th>\n",
       "      <td>Apr-10</td>\n",
       "      <td>-69417</td>\n",
       "      <td>-391430.0</td>\n",
       "    </tr>\n",
       "    <tr>\n",
       "      <th>4</th>\n",
       "      <td>May-10</td>\n",
       "      <td>310503</td>\n",
       "      <td>379920.0</td>\n",
       "    </tr>\n",
       "  </tbody>\n",
       "</table>\n",
       "</div>"
      ],
      "text/plain": [
       "     Date  Profit/Losses    change\n",
       "0  Jan-10         867884       NaN\n",
       "1  Feb-10         984655  116771.0\n",
       "2  Mar-10         322013 -662642.0\n",
       "3  Apr-10         -69417 -391430.0\n",
       "4  May-10         310503  379920.0"
      ]
     },
     "execution_count": 151,
     "metadata": {},
     "output_type": "execute_result"
    }
   ],
   "source": [
    "df.head()"
   ]
  },
  {
   "cell_type": "code",
   "execution_count": 169,
   "id": "2c45518f",
   "metadata": {},
   "outputs": [
    {
     "name": "stdout",
     "output_type": "stream",
     "text": [
      "$-2,315.12\n"
     ]
    }
   ],
   "source": [
    "## The average of the changes in Profit/Losses over the entire period\n",
    "avgChange = df['change'].mean()\n",
    "print(f'${\"{:,.2f}\".format(round(avgChange,2))}')"
   ]
  },
  {
   "cell_type": "code",
   "execution_count": 170,
   "id": "2938f53e",
   "metadata": {},
   "outputs": [
    {
     "name": "stdout",
     "output_type": "stream",
     "text": [
      "$1,926,159.00\n",
      "$-2,196,167.00\n"
     ]
    }
   ],
   "source": [
    "maxChange = df['change'].max()\n",
    "minChange = df['change'].min()\n",
    "\n",
    "print(f'${\"{:,.2f}\".format(maxChange)}')\n",
    "print(f'${\"{:,.2f}\".format(minChange)}')"
   ]
  },
  {
   "cell_type": "code",
   "execution_count": 186,
   "id": "cfcf63cd",
   "metadata": {},
   "outputs": [
    {
     "name": "stdout",
     "output_type": "stream",
     "text": [
      "Greatest Increase in Profits: Feb-12 $1,926,159.00\n",
      "Greatest Decrease in Profits: Sep-13 $-2,196,167.00\n"
     ]
    }
   ],
   "source": [
    "maxDate = df['Date'].loc[df['change'] == maxChange].values[0]\n",
    "minDate = df['Date'].loc[df['change'] == minChange].values[0]\n",
    "\n",
    "print(f'Greatest Increase in Profits: {maxDate} (${\"{:,.2f}\".format(maxChange)})')\n",
    "print(f'Greatest Decrease in Profits: {minDate} (${\"{:,.2f}\".format(minChange)})')"
   ]
  },
  {
   "cell_type": "code",
   "execution_count": 189,
   "id": "a3e6c4bd",
   "metadata": {},
   "outputs": [
    {
     "name": "stdout",
     "output_type": "stream",
     "text": [
      "\n",
      "Financial Analysis\n",
      "----------------------------------\n",
      "\n",
      "Your profit is: $38,382,578.00\n",
      "Total Months 86\n",
      "Average  Change: $-2,315.12\n",
      "Greatest Increase in Profits: Feb-12 ($1,926,159.00)\n",
      "Greatest Decrease in Profits: Sep-13 ($-2,196,167.00)\n"
     ]
    }
   ],
   "source": [
    "f = open('results.txt','w+')\n",
    "\n",
    "f.write(f\"Financial Analysis\\n----------------------------------\\n\")\n",
    "f.write(f\"Your profit is: ${'{:,.2f}'.format(profit)}\\n\")\n",
    "f.write(f\"Total Months {numMonths}\\n\")\n",
    "f.write(f\"Average  Change: ${'{:,.2f}'.format(round(avgChange,2))}\\n\")\n",
    "f.write(f'Greatest Increase in Profits: {maxDate} (${\"{:,.2f}\".format(maxChange)})')\n",
    "f.write(f'Greatest Decrease in Profits: {minDate} (${\"{:,.2f}\".format(minChange)})')\n",
    "\n",
    "print(f\"\\nFinancial Analysis\\n----------------------------------\\n\")\n",
    "print(f\"Your profit is: ${'{:,.2f}'.format(profit)}\")\n",
    "print(f\"Total Months {numMonths}\")\n",
    "print(f\"Average  Change: ${'{:,.2f}'.format(round(avgChange,2))}\")\n",
    "print(f'Greatest Increase in Profits: {maxDate} (${\"{:,.2f}\".format(maxChange)})')\n",
    "print(f'Greatest Decrease in Profits: {minDate} (${\"{:,.2f}\".format(minChange)})')\n",
    "\n",
    "\n",
    "\n",
    "\n",
    "f.close()"
   ]
  },
  {
   "cell_type": "code",
   "execution_count": null,
   "id": "e190eb3a",
   "metadata": {},
   "outputs": [],
   "source": []
  }
 ],
 "metadata": {
  "kernelspec": {
   "display_name": "Python 3 (ipykernel)",
   "language": "python",
   "name": "python3"
  },
  "language_info": {
   "codemirror_mode": {
    "name": "ipython",
    "version": 3
   },
   "file_extension": ".py",
   "mimetype": "text/x-python",
   "name": "python",
   "nbconvert_exporter": "python",
   "pygments_lexer": "ipython3",
   "version": "3.9.12"
  }
 },
 "nbformat": 4,
 "nbformat_minor": 5
}
