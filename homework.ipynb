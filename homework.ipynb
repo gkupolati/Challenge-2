{
 "cells": [
  {
   "cell_type": "code",
   "execution_count": 1,
   "id": "5ca13e34-983b-4037-b33b-5826b0953533",
   "metadata": {},
   "outputs": [],
   "source": [
    "import pandas as pd\n",
    "from pathlib import Path"
   ]
  },
  {
   "cell_type": "code",
   "execution_count": 2,
   "id": "734be651-d36f-4a71-a634-dea7302f5ce0",
   "metadata": {},
   "outputs": [],
   "source": [
    "load_file = Path(\"budget_data.csv\")"
   ]
  },
  {
   "cell_type": "code",
   "execution_count": 7,
   "id": "f70c39c3-69fd-467d-b43d-a89df4986a01",
   "metadata": {},
   "outputs": [
    {
     "data": {
      "text/html": [
       "<div>\n",
       "<style scoped>\n",
       "    .dataframe tbody tr th:only-of-type {\n",
       "        vertical-align: middle;\n",
       "    }\n",
       "\n",
       "    .dataframe tbody tr th {\n",
       "        vertical-align: top;\n",
       "    }\n",
       "\n",
       "    .dataframe thead th {\n",
       "        text-align: right;\n",
       "    }\n",
       "</style>\n",
       "<table border=\"1\" class=\"dataframe\">\n",
       "  <thead>\n",
       "    <tr style=\"text-align: right;\">\n",
       "      <th></th>\n",
       "      <th>Date</th>\n",
       "      <th>Profit/Losses</th>\n",
       "    </tr>\n",
       "  </thead>\n",
       "  <tbody>\n",
       "    <tr>\n",
       "      <th>0</th>\n",
       "      <td>Jan-10</td>\n",
       "      <td>867884</td>\n",
       "    </tr>\n",
       "    <tr>\n",
       "      <th>1</th>\n",
       "      <td>Feb-10</td>\n",
       "      <td>984655</td>\n",
       "    </tr>\n",
       "    <tr>\n",
       "      <th>2</th>\n",
       "      <td>Mar-10</td>\n",
       "      <td>322013</td>\n",
       "    </tr>\n",
       "    <tr>\n",
       "      <th>3</th>\n",
       "      <td>Apr-10</td>\n",
       "      <td>-69417</td>\n",
       "    </tr>\n",
       "    <tr>\n",
       "      <th>4</th>\n",
       "      <td>May-10</td>\n",
       "      <td>310503</td>\n",
       "    </tr>\n",
       "  </tbody>\n",
       "</table>\n",
       "</div>"
      ],
      "text/plain": [
       "     Date  Profit/Losses\n",
       "0  Jan-10         867884\n",
       "1  Feb-10         984655\n",
       "2  Mar-10         322013\n",
       "3  Apr-10         -69417\n",
       "4  May-10         310503"
      ]
     },
     "execution_count": 7,
     "metadata": {},
     "output_type": "execute_result"
    }
   ],
   "source": [
    "budget_df = pd.read_csv(\"budget_data.csv\")\n",
    "budget_df.head()\n"
   ]
  },
  {
   "cell_type": "code",
   "execution_count": 8,
   "id": "c752d209-aa23-4eb8-9957-92bb77756691",
   "metadata": {},
   "outputs": [
    {
     "data": {
      "text/html": [
       "<div>\n",
       "<style scoped>\n",
       "    .dataframe tbody tr th:only-of-type {\n",
       "        vertical-align: middle;\n",
       "    }\n",
       "\n",
       "    .dataframe tbody tr th {\n",
       "        vertical-align: top;\n",
       "    }\n",
       "\n",
       "    .dataframe thead th {\n",
       "        text-align: right;\n",
       "    }\n",
       "</style>\n",
       "<table border=\"1\" class=\"dataframe\">\n",
       "  <thead>\n",
       "    <tr style=\"text-align: right;\">\n",
       "      <th></th>\n",
       "      <th>Date</th>\n",
       "      <th>Profit/Losses</th>\n",
       "    </tr>\n",
       "  </thead>\n",
       "  <tbody>\n",
       "    <tr>\n",
       "      <th>81</th>\n",
       "      <td>Oct-16</td>\n",
       "      <td>102685</td>\n",
       "    </tr>\n",
       "    <tr>\n",
       "      <th>82</th>\n",
       "      <td>Nov-16</td>\n",
       "      <td>795914</td>\n",
       "    </tr>\n",
       "    <tr>\n",
       "      <th>83</th>\n",
       "      <td>Dec-16</td>\n",
       "      <td>60988</td>\n",
       "    </tr>\n",
       "    <tr>\n",
       "      <th>84</th>\n",
       "      <td>Jan-17</td>\n",
       "      <td>138230</td>\n",
       "    </tr>\n",
       "    <tr>\n",
       "      <th>85</th>\n",
       "      <td>Feb-17</td>\n",
       "      <td>671099</td>\n",
       "    </tr>\n",
       "  </tbody>\n",
       "</table>\n",
       "</div>"
      ],
      "text/plain": [
       "      Date  Profit/Losses\n",
       "81  Oct-16         102685\n",
       "82  Nov-16         795914\n",
       "83  Dec-16          60988\n",
       "84  Jan-17         138230\n",
       "85  Feb-17         671099"
      ]
     },
     "execution_count": 8,
     "metadata": {},
     "output_type": "execute_result"
    }
   ],
   "source": [
    "budget_df.tail()\n"
   ]
  },
  {
   "cell_type": "code",
   "execution_count": 9,
   "id": "84822a93-87b2-4f89-bbb4-2d888a5c07ca",
   "metadata": {},
   "outputs": [
    {
     "ename": "NameError",
     "evalue": "name 'budget_data_csv' is not defined",
     "output_type": "error",
     "traceback": [
      "\u001b[1;31m---------------------------------------------------------------------------\u001b[0m",
      "\u001b[1;31mNameError\u001b[0m                                 Traceback (most recent call last)",
      "Input \u001b[1;32mIn [9]\u001b[0m, in \u001b[0;36m<cell line: 13>\u001b[1;34m()\u001b[0m\n\u001b[0;32m     10\u001b[0m change \u001b[38;5;241m=\u001b[39m []\n\u001b[0;32m     11\u001b[0m monthToMonthChange \u001b[38;5;241m=\u001b[39m []\n\u001b[1;32m---> 13\u001b[0m \u001b[38;5;28;01mwith\u001b[39;00m \u001b[38;5;28mopen\u001b[39m(\u001b[43mbudget_data_csv\u001b[49m, newline\u001b[38;5;241m=\u001b[39m\u001b[38;5;124m'\u001b[39m\u001b[38;5;124m'\u001b[39m) \u001b[38;5;28;01mas\u001b[39;00m csvfile:\n\u001b[0;32m     14\u001b[0m \n\u001b[0;32m     15\u001b[0m     \u001b[38;5;66;03m# CSV reader specifies delimiter and variable that holds contents\u001b[39;00m\n\u001b[0;32m     16\u001b[0m     csvreader \u001b[38;5;241m=\u001b[39m csv\u001b[38;5;241m.\u001b[39mreader(csvfile, delimiter\u001b[38;5;241m=\u001b[39m\u001b[38;5;124m'\u001b[39m\u001b[38;5;124m,\u001b[39m\u001b[38;5;124m'\u001b[39m)\n\u001b[0;32m     18\u001b[0m     \u001b[38;5;66;03m# Read the header row first (skip this step if there is no header)\u001b[39;00m\n",
      "\u001b[1;31mNameError\u001b[0m: name 'budget_data_csv' is not defined"
     ]
    }
   ],
   "source": [
    "monthCount = 0\n",
    "totalVolume = 0\n",
    "greatestIncrease = 0\n",
    "bestMonth = ''\n",
    "greatestDecrease = 0\n",
    "worstMonth = ''\n",
    "\n",
    "\n",
    "\n",
    "change = []\n",
    "monthToMonthChange = []\n",
    "\n",
    "with open(budget_data_csv, newline='') as csvfile:\n",
    "\n",
    "    # CSV reader specifies delimiter and variable that holds contents\n",
    "    csvreader = csv.reader(csvfile, delimiter=',')\n",
    "\n",
    "    # Read the header row first (skip this step if there is no header)\n",
    "    csv_header = next(csvreader)\n",
    "    # print(f\"CSV Header: {csv_header}\")\n",
    "\n",
    "    # Read each row of data after the header\n",
    "    for row in csvreader:\n",
    "        #print(row)\n",
    "        monthCount += 1\n",
    "        totalVolume += int(row[1])\n",
    "        if int(row[1]) > greatestIncrease:\n",
    "            bestMonth = (row[0])\n",
    "            greatestIncrease = int(row[1])\n",
    "        elif int(row[1]) < greatestDecrease:\n",
    "            worstMonth = (row[0])\n",
    "            greatestDecrease = int(row[1])\n",
    "        change.append(int(row[1]))\n",
    "\n",
    "  \n",
    "# track monthly changes\n",
    "for i in range(len(change)-1):\n",
    "    monthlyChange = (change[i+1] - change[i])\n",
    "    monthToMonthChange.append(monthlyChange)   \n",
    "\n",
    "averageChange = statistics.mean(monthToMonthChange)\n",
    "\n",
    "print(\"Financial Analysis\")\n",
    "print(\"___________________________________\")\n",
    "\n",
    "print(\"Total Months: \" + str(monthCount))\n",
    "print(\"Average Change is: $\" + str(round(averageChange, 2)))\n",
    "print(\"Total: $\" + str(totalVolume))\n",
    "print(\"Greatest Increase in Profits: \" + str(bestMonth) + \"  ($\" + str(greatestIncrease) + \")\")\n",
    "print(\"Greatest Decrease in Profits: \" + str(worstMonth) + \"  ($\" + str(greatestDecrease) + \")\")\n",
    "\n",
    "# now write this to an output file\n",
    "f = open(\"financial_analysis.txt\", \"w\")\n",
    "f.write(\"Financial Analysis\")\n",
    "f.write(\"___________________________________\")\n",
    "\n",
    "f.write(\"Total Months: \" + str(monthCount))\n",
    "f.write(\"Average Change is: $\" + str(round(averageChange, 2)))\n",
    "f.write(\"Total: $\" + str(totalVolume))\n",
    "f.write(\"Greatest Increase in Profits: \" + str(bestMonth) + \"  ($\" + str(greatestIncrease) + \")\")\n",
    "f.write(\"Greatest Decrease in Profits: \" + str(worstMonth) + \"  ($\" + str(greatestDecrease) + \")\")\n",
    "\n"
   ]
  },
  {
   "cell_type": "code",
   "execution_count": null,
   "id": "27023dca-2e4f-4baa-a515-eebc6a867617",
   "metadata": {},
   "outputs": [],
   "source": []
  }
 ],
 "metadata": {
  "kernelspec": {
   "display_name": "Python 3 (ipykernel)",
   "language": "python",
   "name": "python3"
  },
  "language_info": {
   "codemirror_mode": {
    "name": "ipython",
    "version": 3
   },
   "file_extension": ".py",
   "mimetype": "text/x-python",
   "name": "python",
   "nbconvert_exporter": "python",
   "pygments_lexer": "ipython3",
   "version": "3.9.12"
  }
 },
 "nbformat": 4,
 "nbformat_minor": 5
}
